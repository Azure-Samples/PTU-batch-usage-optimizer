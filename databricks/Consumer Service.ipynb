{
 "cells": [
  {
   "cell_type": "markdown",
   "metadata": {
    "application/vnd.databricks.v1+cell": {
     "cellMetadata": {},
     "inputWidgets": {},
     "nuid": "bf655603-72db-46c0-89d7-4786994545ef",
     "showTitle": false,
     "tableResultSettingsMap": {},
     "title": ""
    }
   },
   "source": [
    "# Consumer Service"
   ]
  },
  {
   "cell_type": "code",
   "execution_count": 0,
   "metadata": {
    "application/vnd.databricks.v1+cell": {
     "cellMetadata": {
      "byteLimit": 2048000,
      "rowLimit": 10000
     },
     "inputWidgets": {},
     "nuid": "7a92bf1d-f3d3-47df-8937-cce2df669c69",
     "showTitle": false,
     "tableResultSettingsMap": {},
     "title": ""
    }
   },
   "outputs": [],
   "source": [
    "import os\n",
    "\n",
    "secrets_scope = \"<your-azure-key-vault-scope>\"\n",
    "\n",
    "# Service Principal Credentials\n",
    "AZURE_TENANT_ID = dbutils.secrets.get(scope=secrets_scope, key=\"AZURE-TENANT-ID\")\n",
    "AZURE_CLIENT_ID = dbutils.secrets.get(scope=secrets_scope, key=\"AZURE-CLIENT-ID\")\n",
    "AZURE_CLIENT_SECRET = dbutils.secrets.get(scope=secrets_scope, key=\"AZURE-CLIENT-SECRET\")\n",
    "\n",
    "# Azure OpenAI\n",
    "AZURE_OPENAI_API_KEY = dbutils.secrets.get(scope=secrets_scope, key=\"AZURE-OPENAI-API-KEY\")\n",
    "AZURE_OPENAI_ENDPOINT = dbutils.secrets.get(scope=secrets_scope, key=\"AZURE-OPENAI-ENDPOINT\")\n",
    "AZURE_OPENAI_PTU_DEPLOYMENT_NAME = dbutils.secrets.get(scope=secrets_scope, key=\"AZURE-OPENAI-PTU-DEPLOYMENT-NAME\")\n",
    "AZURE_OPENAI_RESOURCE_ID = dbutils.secrets.get(scope=secrets_scope, key=\"AZURE-OPENAI-RESOURCE-ID\")\n",
    "\n",
    "# CosmosDB\n",
    "COSMOSDB_CONTAINER = dbutils.secrets.get(scope=secrets_scope, key=\"COSMOSDB-CONTAINER\")\n",
    "COSMOSDB_DATABASE = dbutils.secrets.get(scope=secrets_scope, key=\"COSMOSDB-DATABASE\")\n",
    "COSMOSDB_ENDPOINT = dbutils.secrets.get(scope=secrets_scope, key=\"COSMOSDB-ENDPOINT\")\n",
    "COSMOSDB_KEY = dbutils.secrets.get(scope=secrets_scope, key=\"COSMOSDB-KEY\")\n",
    "\n",
    "# EventHub\n",
    "EVENTHUB_CONNECTION_STR = dbutils.secrets.get(scope=secrets_scope, key=\"EVENTHUB-CONNECTION-STR\")\n",
    "EVENTHUB_NAME = dbutils.secrets.get(scope=secrets_scope, key=\"EVENTHUB-NAME\")\n",
    "STORAGE_ACCOUNT_CHECKPOINT_STORE = dbutils.secrets.get(scope=secrets_scope, key=\"STORAGE-ACCOUNT-CHECKPOINT-STORE\")\n",
    "STORAGE_ACCOUNT_CHECKPOINT_STORE_CONTAINER = dbutils.secrets.get(scope=secrets_scope, key=\"STORAGE-ACCOUNT-CHECKPOINT-STORE-CONTAINER\")\n",
    "\n",
    "# Define the cluster environment variables\n",
    "os.environ[\"AZURE_TENANT_ID\"] = AZURE_TENANT_ID\n",
    "os.environ[\"AZURE_CLIENT_ID\"] = AZURE_CLIENT_ID\n",
    "os.environ[\"AZURE_CLIENT_SECRET\"] = AZURE_CLIENT_SECRET\n",
    "os.environ[\"AZURE_OPENAI_API_KEY\"] = AZURE_OPENAI_API_KEY\n",
    "os.environ[\"AZURE_OPENAI_ENDPOINT\"] = AZURE_OPENAI_ENDPOINT\n",
    "os.environ[\"AZURE_OPENAI_PTU_DEPLOYMENT_NAME\"] = AZURE_OPENAI_PTU_DEPLOYMENT_NAME\n",
    "os.environ[\"AZURE_OPENAI_RESOURCE_ID\"] = AZURE_OPENAI_RESOURCE_ID\n",
    "os.environ[\"COSMOSDB_CONTAINER\"] = COSMOSDB_CONTAINER\n",
    "os.environ[\"COSMOSDB_DATABASE\"] = COSMOSDB_DATABASE\n",
    "os.environ[\"COSMOSDB_ENDPOINT\"] = COSMOSDB_ENDPOINT\n",
    "os.environ[\"COSMOSDB_KEY\"] = COSMOSDB_KEY\n",
    "os.environ[\"EVENTHUB_CONNECTION_STR\"] = EVENTHUB_CONNECTION_STR\n",
    "os.environ[\"EVENTHUB_NAME\"] = EVENTHUB_NAME\n",
    "os.environ[\"STORAGE_ACCOUNT_CHECKPOINT_STORE\"] = STORAGE_ACCOUNT_CHECKPOINT_STORE\n",
    "os.environ[\"STORAGE_ACCOUNT_CHECKPOINT_STORE_CONTAINER\"] = STORAGE_ACCOUNT_CHECKPOINT_STORE_CONTAINER\n"
   ]
  },
  {
   "cell_type": "code",
   "execution_count": 0,
   "metadata": {
    "application/vnd.databricks.v1+cell": {
     "cellMetadata": {
      "byteLimit": 2048000,
      "rowLimit": 10000
     },
     "inputWidgets": {},
     "nuid": "a13ac419-72d6-4930-b50a-b2cf196ada83",
     "showTitle": false,
     "tableResultSettingsMap": {},
     "title": ""
    }
   },
   "outputs": [],
   "source": [
    "import logging\n",
    "from app.src.consumer import Consumer\n",
    "from app.config import settings\n",
    "from azure.eventhub.extensions.checkpointstoreblobaio import BlobCheckpointStore\n",
    "import asyncio\n",
    "import nest_asyncio\n",
    "\n",
    "logging.basicConfig(level=logging.INFO)\n",
    "logger = logging.getLogger(__name__)\n",
    "\n",
    "checkpoint_store = BlobCheckpointStore.from_connection_string(\n",
    "    os.environ[\"STORAGE_ACCOUNT_CHECKPOINT_STORE\"],\n",
    "    os.environ[\"STORAGE_ACCOUNT_CHECKPOINT_STORE_CONTAINER\"]\n",
    ")\n",
    "\n",
    "async def main():\n",
    "    consumer = Consumer(checkpoint_store=checkpoint_store)\n",
    "    logger.info(\"Consumer initialized. Starting event consumption loop...\")\n",
    "    while True:\n",
    "        processed_count = await consumer.consume_event()\n",
    "        logger.info(f\"Events processed in this cycle: {processed_count}\")\n",
    "        await asyncio.sleep(1)  # Adjust sleep as needed\n",
    "\n",
    "if __name__ == \"__main__\":\n",
    "    nest_asyncio.apply()\n",
    "    asyncio.run(main())"
   ]
  }
 ],
 "metadata": {
  "application/vnd.databricks.v1+notebook": {
   "computePreferences": null,
   "dashboards": [],
   "environmentMetadata": {
    "base_environment": "",
    "environment_version": "2"
   },
   "inputWidgetPreferences": null,
   "language": "python",
   "notebookMetadata": {
    "pythonIndentUnit": 4
   },
   "notebookName": "Consumer Service",
   "widgets": {}
  },
  "language_info": {
   "name": "python"
  }
 },
 "nbformat": 4,
 "nbformat_minor": 0
}