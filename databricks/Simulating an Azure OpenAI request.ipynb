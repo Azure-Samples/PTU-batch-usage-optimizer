{
 "cells": [
  {
   "cell_type": "markdown",
   "metadata": {
    "application/vnd.databricks.v1+cell": {
     "cellMetadata": {},
     "inputWidgets": {},
     "nuid": "3d733d6f-1b03-4238-949b-af09079f307d",
     "showTitle": false,
     "tableResultSettingsMap": {},
     "title": ""
    }
   },
   "source": [
    "# Simulating Azure OpenAI requests"
   ]
  },
  {
   "cell_type": "markdown",
   "metadata": {
    "application/vnd.databricks.v1+cell": {
     "cellMetadata": {
      "byteLimit": 2048000,
      "rowLimit": 10000
     },
     "inputWidgets": {},
     "nuid": "2dd1a473-a5c9-4cd7-9017-13f0f16a9963",
     "showTitle": false,
     "tableResultSettingsMap": {},
     "title": ""
    }
   },
   "source": [
    "## Single requests"
   ]
  },
  {
   "cell_type": "code",
   "execution_count": 0,
   "metadata": {
    "application/vnd.databricks.v1+cell": {
     "cellMetadata": {
      "byteLimit": 2048000,
      "rowLimit": 10000
     },
     "inputWidgets": {},
     "nuid": "2f48589f-2051-4c7b-b068-2314ba447c93",
     "showTitle": false,
     "tableResultSettingsMap": {},
     "title": ""
    }
   },
   "outputs": [],
   "source": [
    "import requests, json\n",
    "\n",
    "response = requests.post(\n",
    "    'https://<your-container-apps>.azurecontainerapps.io/producer',\n",
    "    headers={'Content-Type': 'application/json'},\n",
    "    json=[{\n",
    "        \"messages\": [\n",
    "            {\"role\": \"system\", \"content\": \"You are a helpful AI assistant.\"},\n",
    "            {\"role\": \"user\", \"content\": \"Talk about Databricks\"},\n",
    "        ],\n",
    "        \"temperature\": 1,\n",
    "        \"top_p\": 1,\n",
    "        \"max_tokens\": 800\n",
    "    }]\n",
    ")\n",
    "\n",
    "print(response.text)\n",
    "request_id = json.loads(response.text)['request_ids'][0]"
   ]
  },
  {
   "cell_type": "markdown",
   "metadata": {
    "application/vnd.databricks.v1+cell": {
     "cellMetadata": {},
     "inputWidgets": {},
     "nuid": "dd80ee87-0e6b-4a4e-a8c9-70de832f942b",
     "showTitle": false,
     "tableResultSettingsMap": {},
     "title": ""
    }
   },
   "source": [
    "Get the Responses (note they'll only be processed when the PTU environment is under the defined usage threshold)"
   ]
  },
  {
   "cell_type": "code",
   "execution_count": 0,
   "metadata": {
    "application/vnd.databricks.v1+cell": {
     "cellMetadata": {
      "byteLimit": 2048000,
      "rowLimit": 10000
     },
     "inputWidgets": {},
     "nuid": "ab7e01c8-6f99-48bd-85d1-9d7ed7e2049f",
     "showTitle": false,
     "tableResultSettingsMap": {},
     "title": ""
    }
   },
   "outputs": [],
   "source": [
    "import requests\n",
    "\n",
    "url = f\"https://<your-container-apps>/response/{request_id}\"\n",
    "\n",
    "payload = {}\n",
    "headers = {}\n",
    "\n",
    "try:\n",
    "    response = requests.request(\"GET\", url, headers=headers, data=payload)\n",
    "    response.raise_for_status()\n",
    "    print(json.loads(response.text)['response']['choices'][0]['message']['content'])\n",
    "except requests.exceptions.RequestException as e:\n",
    "    print(f\"An error occurred: {e}\")\n",
    "    "
   ]
  },
  {
   "cell_type": "markdown",
   "metadata": {
    "application/vnd.databricks.v1+cell": {
     "cellMetadata": {},
     "inputWidgets": {},
     "nuid": "f66df45d-fbc3-4a3f-85ce-d039da668825",
     "showTitle": false,
     "tableResultSettingsMap": {},
     "title": ""
    }
   },
   "source": [
    "## Batch Requests"
   ]
  },
  {
   "cell_type": "code",
   "execution_count": 0,
   "metadata": {
    "application/vnd.databricks.v1+cell": {
     "cellMetadata": {
      "byteLimit": 2048000,
      "rowLimit": 10000
     },
     "inputWidgets": {},
     "nuid": "461f9781-9b6f-412e-87f0-c165bba95323",
     "showTitle": false,
     "tableResultSettingsMap": {},
     "title": ""
    }
   },
   "outputs": [],
   "source": [
    "import requests, json\n",
    "\n",
    "response = requests.post(\n",
    "    'https://<your-container-apps>.azurecontainerapps.io/producer',\n",
    "    headers={'Content-Type': 'application/json'},\n",
    "    json=[{\n",
    "        \"messages\": [\n",
    "            {\"role\": \"system\", \"content\": \"You are an echo assistant. Respond exactly with the same text the user will enter\"},\n",
    "            {\"role\": \"user\", \"content\": \"TEST01\"},\n",
    "            {\"role\": \"assistant\", \"content\": \"TEST01.\"},\n",
    "            {\"role\": \"user\", \"content\": \"DATABRICKS-TEST-01\"}\n",
    "        ],\n",
    "        \"temperature\": 1,\n",
    "        \"top_p\": 1,\n",
    "        \"max_tokens\": 800\n",
    "    },\n",
    "    {\n",
    "        \"messages\": [\n",
    "            {\"role\": \"system\", \"content\": \"You are an echo assistant. Respond exactly with the same text the user will enter\"},\n",
    "            {\"role\": \"user\", \"content\": \"TEST01\"},\n",
    "            {\"role\": \"assistant\", \"content\": \"TEST01.\"},\n",
    "            {\"role\": \"user\", \"content\": \"DATABRICKS-TEST-02\"}\n",
    "        ],\n",
    "        \"temperature\": 1,\n",
    "        \"top_p\": 1,\n",
    "        \"max_tokens\": 800\n",
    "    }      \n",
    "          ]\n",
    ")\n",
    "\n",
    "print(response.text)\n",
    "\n",
    "request_id_01 = json.loads(response.text)['request_ids'][0]\n",
    "request_id_02 = json.loads(response.text)['request_ids'][1]"
   ]
  },
  {
   "cell_type": "code",
   "execution_count": 0,
   "metadata": {
    "application/vnd.databricks.v1+cell": {
     "cellMetadata": {
      "byteLimit": 2048000,
      "rowLimit": 10000
     },
     "inputWidgets": {},
     "nuid": "fbdfad66-4d04-41fb-bcc4-eea083b48027",
     "showTitle": false,
     "tableResultSettingsMap": {},
     "title": ""
    }
   },
   "outputs": [],
   "source": [
    "\n",
    "import requests\n",
    "\n",
    "# REQUEST - 01\n",
    "url = f\"https://<your-container-apps>.azurecontainerapps.io/response/{request_id_01}\"\n",
    "\n",
    "payload = {}\n",
    "headers = {}\n",
    "\n",
    "response = requests.request(\"GET\", url, headers=headers, data=payload)\n",
    "\n",
    "print(json.loads(response.text)['response']['choices'][0]['message']['content'])\n",
    "\n",
    "# REQUEST - 02\n",
    "url = f\"https://<your-container-apps>/response/{request_id_02}\"\n",
    "\n",
    "payload = {}\n",
    "headers = {}\n",
    "\n",
    "response = requests.request(\"GET\", url, headers=headers, data=payload)\n",
    "\n",
    "print(json.loads(response.text)['response']['choices'][0]['message']['content'])\n",
    "\n"
   ]
  }
 ],
 "metadata": {
  "application/vnd.databricks.v1+notebook": {
   "computePreferences": null,
   "dashboards": [],
   "environmentMetadata": {
    "base_environment": "",
    "environment_version": "2"
   },
   "inputWidgetPreferences": null,
   "language": "python",
   "notebookMetadata": {
    "pythonIndentUnit": 4
   },
   "notebookName": "Simulating an Azure OpenAI request",
   "widgets": {}
  },
  "language_info": {
   "name": "python"
  }
 },
 "nbformat": 4,
 "nbformat_minor": 0
}